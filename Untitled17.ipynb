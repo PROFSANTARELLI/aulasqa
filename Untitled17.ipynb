{
  "nbformat": 4,
  "nbformat_minor": 0,
  "metadata": {
    "colab": {
      "provenance": [],
      "authorship_tag": "ABX9TyOrZiSYsTaL0gJpVJM3rnGp",
      "include_colab_link": true
    },
    "kernelspec": {
      "name": "python3",
      "display_name": "Python 3"
    },
    "language_info": {
      "name": "python"
    }
  },
  "cells": [
    {
      "cell_type": "markdown",
      "metadata": {
        "id": "view-in-github",
        "colab_type": "text"
      },
      "source": [
        "<a href=\"https://colab.research.google.com/github/PROFSANTARELLI/aulasqa/blob/main/Untitled17.ipynb\" target=\"_parent\"><img src=\"https://colab.research.google.com/assets/colab-badge.svg\" alt=\"Open In Colab\"/></a>"
      ]
    },
    {
      "cell_type": "code",
      "source": [
        "!pip install pytest\n",
        "\n",
        "with open(\"test_calculadora.py\", \"w\") as f:\n",
        "    f.write(\"\"\"\n",
        "import pytest\n",
        "\n",
        "# Funções que serão testadas\n",
        "def soma(a, b):\n",
        "    return a + b\n",
        "\n",
        "def subtracao(a, b):\n",
        "    return a - b\n",
        "\n",
        "def multiplicacao(a, b):\n",
        "    return a * b\n",
        "\n",
        "def divisao(a, b):\n",
        "    if b == 0:\n",
        "        raise ValueError(\"Não pode dividir por zero!\")\n",
        "    return a / b\n",
        "\n",
        "# Testes\n",
        "def test_soma():\n",
        "    assert soma(3, 2) == 5\n",
        "    assert soma(-1, 1) == 0\n",
        "\n",
        "def test_subtracao():\n",
        "    assert subtracao(5, 3) == 2\n",
        "    assert subtracao(10, 10) == 0\n",
        "\n",
        "def test_multiplicacao():\n",
        "    assert multiplicacao(3, 3) == 9\n",
        "    assert multiplicacao(4, -2) == -8\n",
        "\n",
        "def test_divisao():\n",
        "\n",
        "    assert divisao(10, 2) == 5\n",
        "    with pytest.raises(ValueError):\n",
        "        divisao(10, 0)\n",
        "    \"\"\")"
      ],
      "metadata": {
        "colab": {
          "base_uri": "https://localhost:8080/"
        },
        "id": "2aIIUwJyx7pj",
        "outputId": "25de9fdf-860c-42bf-b5de-40dba2603de7"
      },
      "execution_count": null,
      "outputs": [
        {
          "output_type": "stream",
          "name": "stdout",
          "text": [
            "Requirement already satisfied: pytest in /usr/local/lib/python3.10/dist-packages (7.4.4)\n",
            "Requirement already satisfied: iniconfig in /usr/local/lib/python3.10/dist-packages (from pytest) (2.0.0)\n",
            "Requirement already satisfied: packaging in /usr/local/lib/python3.10/dist-packages (from pytest) (24.1)\n",
            "Requirement already satisfied: pluggy<2.0,>=0.12 in /usr/local/lib/python3.10/dist-packages (from pytest) (1.5.0)\n",
            "Requirement already satisfied: exceptiongroup>=1.0.0rc8 in /usr/local/lib/python3.10/dist-packages (from pytest) (1.2.2)\n",
            "Requirement already satisfied: tomli>=1.0.0 in /usr/local/lib/python3.10/dist-packages (from pytest) (2.0.1)\n"
          ]
        }
      ]
    },
    {
      "cell_type": "code",
      "source": [
        "!pytest test_calculadora.py"
      ],
      "metadata": {
        "colab": {
          "base_uri": "https://localhost:8080/"
        },
        "id": "2p7KOfoDyJqG",
        "outputId": "e281f6ac-6b3e-499b-f24b-6bbc9f62b44b"
      },
      "execution_count": null,
      "outputs": [
        {
          "output_type": "stream",
          "name": "stdout",
          "text": [
            "\u001b[1m======================================= test session starts ========================================\u001b[0m\n",
            "platform linux -- Python 3.10.12, pytest-7.4.4, pluggy-1.5.0\n",
            "rootdir: /content\n",
            "plugins: anyio-3.7.1, typeguard-4.3.0\n",
            "\u001b[1mcollecting ... \u001b[0m\u001b[1m\rcollected 4 items                                                                                  \u001b[0m\n",
            "\n",
            "test_calculadora.py \u001b[32m.\u001b[0m\u001b[32m.\u001b[0m\u001b[32m.\u001b[0m\u001b[32m.\u001b[0m\u001b[32m                                                                     [100%]\u001b[0m\n",
            "\n",
            "\u001b[32m======================================== \u001b[32m\u001b[1m4 passed\u001b[0m\u001b[32m in 0.02s\u001b[0m\u001b[32m =========================================\u001b[0m\n"
          ]
        }
      ]
    },
    {
      "cell_type": "code",
      "source": [
        "import pytest\n",
        "\n",
        "@pytest.fixture\n",
        "def dados():\n",
        "    return {\"a\": 6, \"b\": 2}\n",
        "\n",
        "def test_soma_fixture(dados):\n",
        "    assert dados[\"a\"] + dados[\"b\"] == 8"
      ],
      "metadata": {
        "id": "nx45bRMPyMJa"
      },
      "execution_count": null,
      "outputs": []
    }
  ]
}